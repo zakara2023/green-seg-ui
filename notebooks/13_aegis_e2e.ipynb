{
 "cells": [
  {
   "cell_type": "markdown",
   "metadata": {},
   "source": [
    "# Aerial Greenery Image Segmentation Model E2E"
   ]
  },
  {
   "cell_type": "markdown",
   "metadata": {},
   "source": [
    "This notebook is used to explore the step by step process for the aerial greenery image segmentation model"
   ]
  },
  {
   "cell_type": "code",
   "execution_count": 1,
   "metadata": {},
   "outputs": [],
   "source": [
    "%load_ext autoreload\n",
    "%autoreload 2"
   ]
  },
  {
   "cell_type": "code",
   "execution_count": 2,
   "metadata": {},
   "outputs": [],
   "source": [
    "# Add the parent directory to the path\n",
    "import sys  \n",
    "sys.path.insert(1, '../')"
   ]
  },
  {
   "cell_type": "code",
   "execution_count": 3,
   "metadata": {
    "executionInfo": {
     "elapsed": 12780,
     "status": "ok",
     "timestamp": 1728001563929,
     "user": {
      "displayName": "Michael Laucella",
      "userId": "15528385624811080307"
     },
     "user_tz": 240
    },
    "id": "ICiO2TeJc5Wo"
   },
   "outputs": [],
   "source": [
    "import os\n",
    "import numpy as np\n",
    "import webdataset as wds\n",
    "from dotenv import load_dotenv\n",
    "\n",
    "import torch\n",
    "from torch.profiler import ProfilerActivity, profile, record_function\n",
    "from torch.utils.data import DataLoader\n",
    "#from torchvision.transforms import functional as F\n",
    "#from pytorch_lightning import Trainer\n",
    "\n",
    "import model.transforms as T\n",
    "from model.aer_mae import AerMae\n",
    "from model.aegis import AeGIS"
   ]
  },
  {
   "cell_type": "code",
   "execution_count": 4,
   "metadata": {},
   "outputs": [
    {
     "data": {
      "text/plain": [
       "True"
      ]
     },
     "execution_count": 4,
     "metadata": {},
     "output_type": "execute_result"
    }
   ],
   "source": [
    "load_dotenv()"
   ]
  },
  {
   "cell_type": "markdown",
   "metadata": {
    "id": "zwBmUcrKc5Wr"
   },
   "source": [
    "## Load Dataset"
   ]
  },
  {
   "cell_type": "code",
   "execution_count": null,
   "metadata": {},
   "outputs": [],
   "source": [
    "root = os.getenv('DATA_ROOT')"
   ]
  },
  {
   "cell_type": "code",
   "execution_count": 5,
   "metadata": {},
   "outputs": [],
   "source": [
    "root = 'E:/USGS/'"
   ]
  },
  {
   "cell_type": "code",
   "execution_count": 6,
   "metadata": {},
   "outputs": [],
   "source": [
    "train_loc = f'file:{root}' + '/NCIR/finetune/train-{000000..000013}.tar'"
   ]
  },
  {
   "cell_type": "code",
   "execution_count": 7,
   "metadata": {
    "executionInfo": {
     "elapsed": 223,
     "status": "ok",
     "timestamp": 1728001567123,
     "user": {
      "displayName": "Michael Laucella",
      "userId": "15528385624811080307"
     },
     "user_tz": 240
    },
    "id": "8hk9W2m8c5Ws"
   },
   "outputs": [],
   "source": [
    "mu = [0.6577]\n",
    "sigma = [0.1994]\n",
    "lens = [44_641, 14_823, 15_112]"
   ]
  },
  {
   "cell_type": "code",
   "execution_count": 8,
   "metadata": {},
   "outputs": [],
   "source": [
    "ds_train = (wds.WebDataset(train_loc, shardshuffle=True)\n",
    "      .shuffle(10_000)\n",
    "      .decode(\"pil\")\n",
    "      .to_tuple(\"jpg\", \"json\")\n",
    "      .map(T.AerMaeTransforms(is_train=True, mu=mu, sigma=sigma)))"
   ]
  },
  {
   "cell_type": "code",
   "execution_count": 31,
   "metadata": {
    "executionInfo": {
     "elapsed": 163,
     "status": "ok",
     "timestamp": 1728001582444,
     "user": {
      "displayName": "Michael Laucella",
      "userId": "15528385624811080307"
     },
     "user_tz": 240
    },
    "id": "ULkoc9-7c5Wt"
   },
   "outputs": [],
   "source": [
    "train_loader = DataLoader(ds_train, batch_size=1)"
   ]
  },
  {
   "cell_type": "code",
   "execution_count": null,
   "metadata": {},
   "outputs": [],
   "source": [
    "ds_train = (wds.WebDataset(train_loc, resampled=True, shardshuffle=True, nodesplitter=wds.split_by_node)\n",
    "    .shuffle(10_000)\n",
    "    .decode(\"pil\")\n",
    "    .to_tuple(\"jpg\", \"json\")\n",
    "    .map(T.AerMaeTransforms(is_train=True, mu=mu, sigma=sigma))\n",
    "    .batched(2))\n",
    "\n",
    "ds_loader = (wds.WebLoader(ds_train, batch_size=None, num_workers=1)\n",
    "    .unbatched()\n",
    "    .shuffle(10_000)\n",
    "    .batched(2)\n",
    "    .with_length(10))"
   ]
  },
  {
   "cell_type": "code",
   "execution_count": 41,
   "metadata": {},
   "outputs": [
    {
     "data": {
      "text/plain": [
       "(torch.Size([2, 1, 224, 224]), torch.Size([2, 4]))"
      ]
     },
     "execution_count": 41,
     "metadata": {},
     "output_type": "execute_result"
    }
   ],
   "source": [
    "images, loc = next(iter(ds_loader))\n",
    "images.shape, loc.shape"
   ]
  },
  {
   "cell_type": "markdown",
   "metadata": {},
   "source": [
    "## Sample Data"
   ]
  },
  {
   "cell_type": "code",
   "execution_count": 10,
   "metadata": {
    "colab": {
     "base_uri": "https://localhost:8080/"
    },
    "executionInfo": {
     "elapsed": 1698,
     "status": "ok",
     "timestamp": 1728001617825,
     "user": {
      "displayName": "Michael Laucella",
      "userId": "15528385624811080307"
     },
     "user_tz": 240
    },
    "id": "ZCfYn8Kcc5Wy",
    "outputId": "fd684e04-4b3e-45ce-c68f-6dac66c9c485"
   },
   "outputs": [
    {
     "data": {
      "text/plain": [
       "(torch.Size([1, 1, 224, 224]), torch.Size([1, 4]))"
      ]
     },
     "execution_count": 10,
     "metadata": {},
     "output_type": "execute_result"
    }
   ],
   "source": [
    "images, loc = next(iter(train_loader))\n",
    "images.shape, loc.shape"
   ]
  },
  {
   "cell_type": "markdown",
   "metadata": {
    "id": "bCYhmAemc5Wv"
   },
   "source": [
    "## Create MAE Model"
   ]
  },
  {
   "cell_type": "code",
   "execution_count": 11,
   "metadata": {
    "executionInfo": {
     "elapsed": 205,
     "status": "ok",
     "timestamp": 1728001587555,
     "user": {
      "displayName": "Michael Laucella",
      "userId": "15528385624811080307"
     },
     "user_tz": 240
    },
    "id": "vjTebS49c5Wx"
   },
   "outputs": [],
   "source": [
    "mae = AerMae(img_size=(224, 224),\n",
    "             patch_size=8,\n",
    "             enc_geo_dim=256,\n",
    "             enc_dim=512,\n",
    "             dec_geo_dim=256,\n",
    "             dec_dim=512,\n",
    "             enc_layers=4,\n",
    "             dec_layers=4,\n",
    "             enc_heads=4,\n",
    "             dec_heads=4,\n",
    "             ff_mul=4,\n",
    "             mask_pct=0.75)"
   ]
  },
  {
   "cell_type": "markdown",
   "metadata": {},
   "source": [
    "## Create AeGIS Model"
   ]
  },
  {
   "cell_type": "code",
   "execution_count": 12,
   "metadata": {},
   "outputs": [],
   "source": [
    "aegis = AeGIS(mae)\n",
    "loss_fn = torch.nn.BCELoss()"
   ]
  },
  {
   "cell_type": "markdown",
   "metadata": {},
   "source": [
    "## Walk through AeGIS steps"
   ]
  },
  {
   "cell_type": "code",
   "execution_count": 16,
   "metadata": {
    "colab": {
     "base_uri": "https://localhost:8080/"
    },
    "executionInfo": {
     "elapsed": 2619,
     "status": "ok",
     "timestamp": 1728001627953,
     "user": {
      "displayName": "Michael Laucella",
      "userId": "15528385624811080307"
     },
     "user_tz": 240
    },
    "id": "rORHioIDc5W2",
    "outputId": "91b20bc0-23bd-40db-98e1-7fc2e95a06f7"
   },
   "outputs": [
    {
     "data": {
      "text/plain": [
       "(torch.Size([1, 784, 64]), torch.Size([1, 784]))"
      ]
     },
     "execution_count": 16,
     "metadata": {},
     "output_type": "execute_result"
    }
   ],
   "source": [
    "img, mask = mae(images, loc)\n",
    "img.shape, mask.shape"
   ]
  },
  {
   "cell_type": "code",
   "execution_count": 17,
   "metadata": {},
   "outputs": [
    {
     "data": {
      "text/plain": [
       "torch.Size([1, 784, 64])"
      ]
     },
     "execution_count": 17,
     "metadata": {},
     "output_type": "execute_result"
    }
   ],
   "source": [
    "y_hat = aegis.conv(img)\n",
    "y_hat.shape"
   ]
  },
  {
   "cell_type": "code",
   "execution_count": 18,
   "metadata": {},
   "outputs": [
    {
     "data": {
      "text/plain": [
       "torch.Size([1, 784, 64])"
      ]
     },
     "execution_count": 18,
     "metadata": {},
     "output_type": "execute_result"
    }
   ],
   "source": [
    "y_hat = aegis.sigmoid(y_hat)\n",
    "y_hat.shape"
   ]
  },
  {
   "cell_type": "code",
   "execution_count": 19,
   "metadata": {},
   "outputs": [
    {
     "name": "stdout",
     "output_type": "stream",
     "text": [
      "tensor([[0.4566, 0.3834, 0.4420,  ..., 0.6241, 0.5860, 0.2956],\n",
      "        [0.4246, 0.4680, 0.5195,  ..., 0.4820, 0.3555, 0.3049],\n",
      "        [0.3582, 0.3053, 0.5433,  ..., 0.3149, 0.3831, 0.4082],\n",
      "        ...,\n",
      "        [0.3946, 0.3985, 0.5449,  ..., 0.4905, 0.4146, 0.3393],\n",
      "        [0.3890, 0.4122, 0.5573,  ..., 0.4822, 0.4106, 0.3374],\n",
      "        [0.3774, 0.5008, 0.6071,  ..., 0.4235, 0.3324, 0.3808]],\n",
      "       grad_fn=<SelectBackward0>)\n"
     ]
    }
   ],
   "source": [
    "print(y_hat[0])"
   ]
  },
  {
   "cell_type": "markdown",
   "metadata": {},
   "source": [
    "## Full pass through"
   ]
  },
  {
   "cell_type": "code",
   "execution_count": 26,
   "metadata": {},
   "outputs": [
    {
     "data": {
      "text/plain": [
       "torch.Size([1, 784, 64])"
      ]
     },
     "execution_count": 26,
     "metadata": {},
     "output_type": "execute_result"
    }
   ],
   "source": [
    "y_hat = aegis(images, loc)\n",
    "y_hat.shape"
   ]
  },
  {
   "cell_type": "markdown",
   "metadata": {
    "id": "rTWj3mrXc5W2"
   },
   "source": [
    "Calculate loss"
   ]
  },
  {
   "cell_type": "code",
   "execution_count": 27,
   "metadata": {
    "colab": {
     "base_uri": "https://localhost:8080/"
    },
    "executionInfo": {
     "elapsed": 183,
     "status": "ok",
     "timestamp": 1728001634222,
     "user": {
      "displayName": "Michael Laucella",
      "userId": "15528385624811080307"
     },
     "user_tz": 240
    },
    "id": "-HVCPm56c5W3",
    "outputId": "f8db858b-879e-462d-ed4e-8439cba476fd"
   },
   "outputs": [
    {
     "data": {
      "text/plain": [
       "torch.Size([1, 784, 64])"
      ]
     },
     "execution_count": 27,
     "metadata": {},
     "output_type": "execute_result"
    }
   ],
   "source": [
    "# TODO: need actual segmentations\n",
    "true = torch.randint(0, 2, y_hat.shape).float()\n",
    "true.shape"
   ]
  },
  {
   "cell_type": "code",
   "execution_count": 28,
   "metadata": {
    "colab": {
     "base_uri": "https://localhost:8080/"
    },
    "executionInfo": {
     "elapsed": 184,
     "status": "ok",
     "timestamp": 1728001635616,
     "user": {
      "displayName": "Michael Laucella",
      "userId": "15528385624811080307"
     },
     "user_tz": 240
    },
    "id": "lYDZ0Nuhc5W3",
    "outputId": "f4e198a9-455a-4cfa-c2ea-d0ab5cdb5e64"
   },
   "outputs": [
    {
     "data": {
      "text/plain": [
       "tensor(50.0598, grad_fn=<BinaryCrossEntropyBackward0>)"
      ]
     },
     "execution_count": 28,
     "metadata": {},
     "output_type": "execute_result"
    }
   ],
   "source": [
    "loss = loss_fn(true, y_hat)\n",
    "loss"
   ]
  },
  {
   "cell_type": "markdown",
   "metadata": {
    "id": "H03AxmrEc5W4"
   },
   "source": [
    "## Cleanup"
   ]
  },
  {
   "cell_type": "code",
   "execution_count": 30,
   "metadata": {
    "id": "v-mrSIloc5W5"
   },
   "outputs": [],
   "source": [
    "ds_train.close()"
   ]
  }
 ],
 "metadata": {
  "colab": {
   "provenance": []
  },
  "kernelspec": {
   "display_name": "mlts2venv",
   "language": "python",
   "name": "python3"
  },
  "language_info": {
   "codemirror_mode": {
    "name": "ipython",
    "version": 3
   },
   "file_extension": ".py",
   "mimetype": "text/x-python",
   "name": "python",
   "nbconvert_exporter": "python",
   "pygments_lexer": "ipython3",
   "version": "3.11.9"
  }
 },
 "nbformat": 4,
 "nbformat_minor": 0
}
