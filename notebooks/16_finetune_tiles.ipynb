{
 "cells": [
  {
   "cell_type": "markdown",
   "metadata": {},
   "source": [
    "# Finetune Tiles"
   ]
  },
  {
   "cell_type": "markdown",
   "metadata": {},
   "source": [
    "Determine the tile overlap between the finetune sets and the historical data to filter out of any pretrain dataset"
   ]
  },
  {
   "cell_type": "code",
   "execution_count": 41,
   "metadata": {},
   "outputs": [],
   "source": [
    "import os\n",
    "import pandas as pd\n",
    "import geopandas as gpd\n",
    "import seaborn as sns\n",
    "import matplotlib.pyplot as plt\n",
    "\n",
    "from shapely.geometry import Polygon"
   ]
  },
  {
   "cell_type": "code",
   "execution_count": 42,
   "metadata": {},
   "outputs": [],
   "source": [
    "sns.set_style(\"darkgrid\")"
   ]
  },
  {
   "cell_type": "code",
   "execution_count": 50,
   "metadata": {},
   "outputs": [],
   "source": [
    "root = 'C:/Users/mikelaucella/Downloads'\n",
    "usgs = 'C:/Users/mikelaucella/Downloads/USGS'"
   ]
  },
  {
   "cell_type": "markdown",
   "metadata": {},
   "source": [
    "## Extract CIR Meta data"
   ]
  },
  {
   "cell_type": "code",
   "execution_count": 19,
   "metadata": {},
   "outputs": [],
   "source": [
    "def cleanup_file(file: str) -> str:\n",
    "    filename = os.path.splitext(file)[0]\n",
    "    filename = filename.upper()\n",
    "    return filename"
   ]
  },
  {
   "cell_type": "code",
   "execution_count": 18,
   "metadata": {},
   "outputs": [
    {
     "data": {
      "application/vnd.microsoft.datawrangler.viewer.v0+json": {
       "columns": [
        {
         "name": "index",
         "rawType": "int64",
         "type": "integer"
        },
        {
         "name": "Entity  ID",
         "rawType": "object",
         "type": "string"
        },
        {
         "name": "Agency",
         "rawType": "object",
         "type": "string"
        },
        {
         "name": "Vendor ID",
         "rawType": "object",
         "type": "unknown"
        },
        {
         "name": "Recording Technique",
         "rawType": "int64",
         "type": "integer"
        },
        {
         "name": "Project",
         "rawType": "object",
         "type": "string"
        },
        {
         "name": "Event",
         "rawType": "object",
         "type": "unknown"
        },
        {
         "name": "Roll",
         "rawType": "object",
         "type": "string"
        },
        {
         "name": "Frame",
         "rawType": "object",
         "type": "string"
        },
        {
         "name": "Acquisition Date",
         "rawType": "object",
         "type": "string"
        },
        {
         "name": "Scale",
         "rawType": "int64",
         "type": "integer"
        },
        {
         "name": "High Resolution Download Avail",
         "rawType": "int64",
         "type": "integer"
        },
        {
         "name": "Strip Number",
         "rawType": "int64",
         "type": "integer"
        },
        {
         "name": "Image Type",
         "rawType": "int64",
         "type": "integer"
        },
        {
         "name": "Quality",
         "rawType": "int64",
         "type": "integer"
        },
        {
         "name": "Cloud Cover",
         "rawType": "int64",
         "type": "integer"
        },
        {
         "name": "Photo ID",
         "rawType": "object",
         "type": "string"
        },
        {
         "name": "Flying Height in Feet",
         "rawType": "int64",
         "type": "integer"
        },
        {
         "name": "Film Length and Width",
         "rawType": "object",
         "type": "string"
        },
        {
         "name": "Focal Length",
         "rawType": "object",
         "type": "string"
        },
        {
         "name": "Stereo Overlap",
         "rawType": "int64",
         "type": "integer"
        },
        {
         "name": "Other",
         "rawType": "object",
         "type": "unknown"
        },
        {
         "name": "Center Latitude",
         "rawType": "object",
         "type": "string"
        },
        {
         "name": "Center Longitude",
         "rawType": "object",
         "type": "string"
        },
        {
         "name": "NW Corner Lat",
         "rawType": "object",
         "type": "string"
        },
        {
         "name": "NW Corner Long",
         "rawType": "object",
         "type": "string"
        },
        {
         "name": "NE Corner lat",
         "rawType": "object",
         "type": "string"
        },
        {
         "name": "NE Corner Long",
         "rawType": "object",
         "type": "string"
        },
        {
         "name": "SE Corner Lat",
         "rawType": "object",
         "type": "string"
        },
        {
         "name": "SE Corner Long",
         "rawType": "object",
         "type": "string"
        },
        {
         "name": "SW Corner Lat",
         "rawType": "object",
         "type": "string"
        },
        {
         "name": "SW Corner Long",
         "rawType": "object",
         "type": "string"
        },
        {
         "name": "Center Latitude dec",
         "rawType": "float64",
         "type": "float"
        },
        {
         "name": "Center Longitude dec",
         "rawType": "float64",
         "type": "float"
        },
        {
         "name": "NW Corner Lat dec",
         "rawType": "float64",
         "type": "float"
        },
        {
         "name": "NW Corner Long dec",
         "rawType": "float64",
         "type": "float"
        },
        {
         "name": "NE Corner Lat dec",
         "rawType": "float64",
         "type": "float"
        },
        {
         "name": "NE Corner Long dec",
         "rawType": "float64",
         "type": "float"
        },
        {
         "name": "SE Corner Lat dec",
         "rawType": "float64",
         "type": "float"
        },
        {
         "name": "SE Corner Long dec",
         "rawType": "float64",
         "type": "float"
        },
        {
         "name": "SW Corner Lat dec",
         "rawType": "float64",
         "type": "float"
        },
        {
         "name": "SW Corner Long dec",
         "rawType": "float64",
         "type": "float"
        },
        {
         "name": "Display ID",
         "rawType": "object",
         "type": "string"
        },
        {
         "name": "Entity ID",
         "rawType": "object",
         "type": "string"
        }
       ],
       "conversionMethod": "pd.DataFrame",
       "ref": "81c8cb72-d62e-4fd7-99fe-433eed7af65b",
       "rows": [
        [
         "0",
         "AR61000003A0003",
         "6",
         null,
         "2",
         "10000",
         null,
         "00003A",
         "3",
         "1969/07/17",
         "63763",
         "1",
         "0",
         "13",
         "8",
         "0",
         "61000003A0003",
         "60042",
         "229mm x 229mm",
         "304.8 mm",
         "1",
         null,
         "36°41'32.15\"N",
         "121°51'00.84\"W",
         "36°42'43\"N",
         "121°57'19.01\"W",
         "36°46'37.16\"N",
         "121°49'31.01\"W",
         "36°40'21.37\"N",
         "121°44'43.01\"W",
         "36°36'26\"N",
         "121°52'31.01\"W",
         "36.692264",
         "-121.850233",
         "36.711944",
         "-121.95528",
         "36.77699",
         "-121.82528",
         "36.672602",
         "-121.74528",
         "36.607222",
         "-121.87528",
         "AR61000003A0003",
         "AR61000003A0003"
        ],
        [
         "1",
         "AR61000003A0004",
         "6",
         null,
         "2",
         "10000",
         null,
         "00003A",
         "4",
         "1969/07/17",
         "63763",
         "1",
         "0",
         "13",
         "8",
         "0",
         "61000003A0004",
         "60042",
         "229mm x 229mm",
         "304.8 mm",
         "1",
         null,
         "36°45'06.40\"N",
         "121°43'53.72\"W",
         "36°46'16.87\"N",
         "121°50'11.54\"W",
         "36°50'10.70\"N",
         "121°42'24.23\"W",
         "36°43'56\"N",
         "121°37'36.23\"W",
         "36°40'00.97\"N",
         "121°45'23.54\"W",
         "36.751779",
         "-121.731588",
         "36.771353",
         "-121.83654",
         "36.836306",
         "-121.70673",
         "36.732223",
         "-121.62673",
         "36.666936",
         "-121.75654",
         "AR61000003A0004",
         "AR61000003A0004"
        ],
        [
         "2",
         "AR61000003A0005",
         "6",
         null,
         "2",
         "10000",
         null,
         "00003A",
         "5",
         "1969/07/17",
         "63763",
         "1",
         "0",
         "13",
         "8",
         "0",
         "61000003A0005",
         "60042",
         "229mm x 229mm",
         "304.8 mm",
         "1",
         null,
         "36°48'40.33\"N",
         "121°36'47.26\"W",
         "36°49'50.41\"N",
         "121°43'04.76\"W",
         "36°53'43.91\"N",
         "121°35'18.10\"W",
         "36°47'30.30\"N",
         "121°30'30.10\"W",
         "36°43'35.61\"N",
         "121°38'16.76\"W",
         "36.811202",
         "-121.613129",
         "36.83067",
         "-121.71799",
         "36.89553",
         "-121.58836",
         "36.791751",
         "-121.50836",
         "36.726558",
         "-121.63799",
         "AR61000003A0005",
         "AR61000003A0005"
        ],
        [
         "3",
         "AR61000003A0006",
         "6",
         null,
         "2",
         "10000",
         null,
         "00003A",
         "6",
         "1969/07/17",
         "63763",
         "1",
         "0",
         "13",
         "8",
         "0",
         "61000003A0006",
         "60042",
         "229mm x 229mm",
         "304.8 mm",
         "1",
         null,
         "36°52'13.91\"N",
         "121°29'41.49\"W",
         "36°53'23.62\"N",
         "121°35'58.67\"W",
         "36°57'16.78\"N",
         "121°28'12.65\"W",
         "36°51'04.27\"N",
         "121°23'24.65\"W",
         "36°47'09.91\"N",
         "121°31'10.67\"W",
         "36.870531",
         "-121.494859",
         "36.889894",
         "-121.59963",
         "36.954661",
         "-121.47018",
         "36.851186",
         "-121.39018",
         "36.786086",
         "-121.51963",
         "AR61000003A0006",
         "AR61000003A0006"
        ],
        [
         "4",
         "AR61000003A0007",
         "6",
         null,
         "2",
         "10000",
         null,
         "00003A",
         "7",
         "1969/07/17",
         "63763",
         "1",
         "0",
         "13",
         "8",
         "0",
         "61000003A0007",
         "60042",
         "229mm x 229mm",
         "304.8 mm",
         "1",
         null,
         "36°55'47.16\"N",
         "121°22'36.39\"W",
         "36°56'56.49\"N",
         "121°28'53.22\"W",
         "37°00'49.32\"N",
         "121°21'07.88\"W",
         "36°54'37.90\"N",
         "121°16'19.88\"W",
         "36°50'43.88\"N",
         "121°24'05.22\"W",
         "36.929768",
         "-121.376774",
         "36.949025",
         "-121.48145",
         "37.013699",
         "-121.35219",
         "36.910528",
         "-121.27219",
         "36.845521",
         "-121.40145",
         "AR61000003A0007",
         "AR61000003A0007"
        ]
       ],
       "shape": {
        "columns": 43,
        "rows": 5
       }
      },
      "text/html": [
       "<div>\n",
       "<style scoped>\n",
       "    .dataframe tbody tr th:only-of-type {\n",
       "        vertical-align: middle;\n",
       "    }\n",
       "\n",
       "    .dataframe tbody tr th {\n",
       "        vertical-align: top;\n",
       "    }\n",
       "\n",
       "    .dataframe thead th {\n",
       "        text-align: right;\n",
       "    }\n",
       "</style>\n",
       "<table border=\"1\" class=\"dataframe\">\n",
       "  <thead>\n",
       "    <tr style=\"text-align: right;\">\n",
       "      <th></th>\n",
       "      <th>Entity  ID</th>\n",
       "      <th>Agency</th>\n",
       "      <th>Vendor ID</th>\n",
       "      <th>Recording Technique</th>\n",
       "      <th>Project</th>\n",
       "      <th>Event</th>\n",
       "      <th>Roll</th>\n",
       "      <th>Frame</th>\n",
       "      <th>Acquisition Date</th>\n",
       "      <th>Scale</th>\n",
       "      <th>...</th>\n",
       "      <th>NW Corner Lat dec</th>\n",
       "      <th>NW Corner Long dec</th>\n",
       "      <th>NE Corner Lat dec</th>\n",
       "      <th>NE Corner Long dec</th>\n",
       "      <th>SE Corner Lat dec</th>\n",
       "      <th>SE Corner Long dec</th>\n",
       "      <th>SW Corner Lat dec</th>\n",
       "      <th>SW Corner Long dec</th>\n",
       "      <th>Display ID</th>\n",
       "      <th>Entity ID</th>\n",
       "    </tr>\n",
       "  </thead>\n",
       "  <tbody>\n",
       "    <tr>\n",
       "      <th>0</th>\n",
       "      <td>AR61000003A0003</td>\n",
       "      <td>6</td>\n",
       "      <td>NaN</td>\n",
       "      <td>2</td>\n",
       "      <td>10000</td>\n",
       "      <td>NaN</td>\n",
       "      <td>00003A</td>\n",
       "      <td>3</td>\n",
       "      <td>1969/07/17</td>\n",
       "      <td>63763</td>\n",
       "      <td>...</td>\n",
       "      <td>36.711944</td>\n",
       "      <td>-121.95528</td>\n",
       "      <td>36.776990</td>\n",
       "      <td>-121.82528</td>\n",
       "      <td>36.672602</td>\n",
       "      <td>-121.74528</td>\n",
       "      <td>36.607222</td>\n",
       "      <td>-121.87528</td>\n",
       "      <td>AR61000003A0003</td>\n",
       "      <td>AR61000003A0003</td>\n",
       "    </tr>\n",
       "    <tr>\n",
       "      <th>1</th>\n",
       "      <td>AR61000003A0004</td>\n",
       "      <td>6</td>\n",
       "      <td>NaN</td>\n",
       "      <td>2</td>\n",
       "      <td>10000</td>\n",
       "      <td>NaN</td>\n",
       "      <td>00003A</td>\n",
       "      <td>4</td>\n",
       "      <td>1969/07/17</td>\n",
       "      <td>63763</td>\n",
       "      <td>...</td>\n",
       "      <td>36.771353</td>\n",
       "      <td>-121.83654</td>\n",
       "      <td>36.836306</td>\n",
       "      <td>-121.70673</td>\n",
       "      <td>36.732223</td>\n",
       "      <td>-121.62673</td>\n",
       "      <td>36.666936</td>\n",
       "      <td>-121.75654</td>\n",
       "      <td>AR61000003A0004</td>\n",
       "      <td>AR61000003A0004</td>\n",
       "    </tr>\n",
       "    <tr>\n",
       "      <th>2</th>\n",
       "      <td>AR61000003A0005</td>\n",
       "      <td>6</td>\n",
       "      <td>NaN</td>\n",
       "      <td>2</td>\n",
       "      <td>10000</td>\n",
       "      <td>NaN</td>\n",
       "      <td>00003A</td>\n",
       "      <td>5</td>\n",
       "      <td>1969/07/17</td>\n",
       "      <td>63763</td>\n",
       "      <td>...</td>\n",
       "      <td>36.830670</td>\n",
       "      <td>-121.71799</td>\n",
       "      <td>36.895530</td>\n",
       "      <td>-121.58836</td>\n",
       "      <td>36.791751</td>\n",
       "      <td>-121.50836</td>\n",
       "      <td>36.726558</td>\n",
       "      <td>-121.63799</td>\n",
       "      <td>AR61000003A0005</td>\n",
       "      <td>AR61000003A0005</td>\n",
       "    </tr>\n",
       "    <tr>\n",
       "      <th>3</th>\n",
       "      <td>AR61000003A0006</td>\n",
       "      <td>6</td>\n",
       "      <td>NaN</td>\n",
       "      <td>2</td>\n",
       "      <td>10000</td>\n",
       "      <td>NaN</td>\n",
       "      <td>00003A</td>\n",
       "      <td>6</td>\n",
       "      <td>1969/07/17</td>\n",
       "      <td>63763</td>\n",
       "      <td>...</td>\n",
       "      <td>36.889894</td>\n",
       "      <td>-121.59963</td>\n",
       "      <td>36.954661</td>\n",
       "      <td>-121.47018</td>\n",
       "      <td>36.851186</td>\n",
       "      <td>-121.39018</td>\n",
       "      <td>36.786086</td>\n",
       "      <td>-121.51963</td>\n",
       "      <td>AR61000003A0006</td>\n",
       "      <td>AR61000003A0006</td>\n",
       "    </tr>\n",
       "    <tr>\n",
       "      <th>4</th>\n",
       "      <td>AR61000003A0007</td>\n",
       "      <td>6</td>\n",
       "      <td>NaN</td>\n",
       "      <td>2</td>\n",
       "      <td>10000</td>\n",
       "      <td>NaN</td>\n",
       "      <td>00003A</td>\n",
       "      <td>7</td>\n",
       "      <td>1969/07/17</td>\n",
       "      <td>63763</td>\n",
       "      <td>...</td>\n",
       "      <td>36.949025</td>\n",
       "      <td>-121.48145</td>\n",
       "      <td>37.013699</td>\n",
       "      <td>-121.35219</td>\n",
       "      <td>36.910528</td>\n",
       "      <td>-121.27219</td>\n",
       "      <td>36.845521</td>\n",
       "      <td>-121.40145</td>\n",
       "      <td>AR61000003A0007</td>\n",
       "      <td>AR61000003A0007</td>\n",
       "    </tr>\n",
       "  </tbody>\n",
       "</table>\n",
       "<p>5 rows × 43 columns</p>\n",
       "</div>"
      ],
      "text/plain": [
       "        Entity  ID Agency Vendor ID  Recording Technique Project Event  \\\n",
       "0  AR61000003A0003      6       NaN                    2   10000   NaN   \n",
       "1  AR61000003A0004      6       NaN                    2   10000   NaN   \n",
       "2  AR61000003A0005      6       NaN                    2   10000   NaN   \n",
       "3  AR61000003A0006      6       NaN                    2   10000   NaN   \n",
       "4  AR61000003A0007      6       NaN                    2   10000   NaN   \n",
       "\n",
       "     Roll Frame Acquisition Date  Scale  ...  NW Corner Lat dec  \\\n",
       "0  00003A     3       1969/07/17  63763  ...          36.711944   \n",
       "1  00003A     4       1969/07/17  63763  ...          36.771353   \n",
       "2  00003A     5       1969/07/17  63763  ...          36.830670   \n",
       "3  00003A     6       1969/07/17  63763  ...          36.889894   \n",
       "4  00003A     7       1969/07/17  63763  ...          36.949025   \n",
       "\n",
       "   NW Corner Long dec  NE Corner Lat dec  NE Corner Long dec  \\\n",
       "0          -121.95528          36.776990          -121.82528   \n",
       "1          -121.83654          36.836306          -121.70673   \n",
       "2          -121.71799          36.895530          -121.58836   \n",
       "3          -121.59963          36.954661          -121.47018   \n",
       "4          -121.48145          37.013699          -121.35219   \n",
       "\n",
       "   SE Corner Lat dec SE Corner Long dec  SW Corner Lat dec SW Corner Long dec  \\\n",
       "0          36.672602         -121.74528          36.607222         -121.87528   \n",
       "1          36.732223         -121.62673          36.666936         -121.75654   \n",
       "2          36.791751         -121.50836          36.726558         -121.63799   \n",
       "3          36.851186         -121.39018          36.786086         -121.51963   \n",
       "4          36.910528         -121.27219          36.845521         -121.40145   \n",
       "\n",
       "        Display ID        Entity ID  \n",
       "0  AR61000003A0003  AR61000003A0003  \n",
       "1  AR61000003A0004  AR61000003A0004  \n",
       "2  AR61000003A0005  AR61000003A0005  \n",
       "3  AR61000003A0006  AR61000003A0006  \n",
       "4  AR61000003A0007  AR61000003A0007  \n",
       "\n",
       "[5 rows x 43 columns]"
      ]
     },
     "execution_count": 18,
     "metadata": {},
     "output_type": "execute_result"
    }
   ],
   "source": [
    "ca_cir = pd.read_csv('E:/USGS/CIR/meta/CA.csv')\n",
    "tx_cir = pd.read_csv('E:/USGS/CIR/meta/TX.csv')\n",
    "df_cir = pd.concat([ca_cir, tx_cir])\n",
    "df_cir.head()"
   ]
  },
  {
   "cell_type": "code",
   "execution_count": null,
   "metadata": {},
   "outputs": [
    {
     "name": "stdout",
     "output_type": "stream",
     "text": [
      "CIR files found:  208\n"
     ]
    }
   ],
   "source": [
    "ca_cir = [cleanup_file(file) for file in os.listdir('E:/USGS/CIR/CA') if file.endswith('.tif')]\n",
    "tx_cir = [cleanup_file(file) for file in os.listdir('E:/USGS/CIR/TX') if file.endswith('.tif')]\n",
    "files_cir = ca_cir + tx_cir\n",
    "\n",
    "print('CIR files found: ', len(files_cir))"
   ]
  },
  {
   "cell_type": "code",
   "execution_count": 29,
   "metadata": {},
   "outputs": [
    {
     "name": "stdout",
     "output_type": "stream",
     "text": [
      "CIR files in metadata:  208\n"
     ]
    }
   ],
   "source": [
    "df_cir = df_cir[df_cir['Photo ID'].isin(set(files_cir))]\n",
    "\n",
    "print('CIR files in metadata: ', len(df_cir))"
   ]
  },
  {
   "cell_type": "markdown",
   "metadata": {},
   "source": [
    "## Extract NCIR Meta data"
   ]
  },
  {
   "cell_type": "code",
   "execution_count": 3,
   "metadata": {},
   "outputs": [
    {
     "data": {
      "application/vnd.microsoft.datawrangler.viewer.v0+json": {
       "columns": [
        {
         "name": "index",
         "rawType": "int64",
         "type": "integer"
        },
        {
         "name": "NAIP Entity ID",
         "rawType": "object",
         "type": "string"
        },
        {
         "name": "State",
         "rawType": "object",
         "type": "string"
        },
        {
         "name": "Agency",
         "rawType": "object",
         "type": "string"
        },
        {
         "name": "Vendor",
         "rawType": "object",
         "type": "string"
        },
        {
         "name": "Map Projection",
         "rawType": "object",
         "type": "string"
        },
        {
         "name": "Projection Zone",
         "rawType": "object",
         "type": "string"
        },
        {
         "name": "Datum",
         "rawType": "object",
         "type": "string"
        },
        {
         "name": "Resolution",
         "rawType": "float64",
         "type": "float"
        },
        {
         "name": "Units",
         "rawType": "object",
         "type": "string"
        },
        {
         "name": "Number of Bands",
         "rawType": "int64",
         "type": "integer"
        },
        {
         "name": "Sensor Type",
         "rawType": "object",
         "type": "string"
        },
        {
         "name": "Project Name",
         "rawType": "object",
         "type": "string"
        },
        {
         "name": "Acquisition Date",
         "rawType": "object",
         "type": "string"
        },
        {
         "name": "Center Latitude",
         "rawType": "object",
         "type": "string"
        },
        {
         "name": "Center Longitude",
         "rawType": "object",
         "type": "string"
        },
        {
         "name": "NW Corner Lat",
         "rawType": "object",
         "type": "string"
        },
        {
         "name": "NW Corner Long",
         "rawType": "object",
         "type": "string"
        },
        {
         "name": "NE Corner Lat",
         "rawType": "object",
         "type": "string"
        },
        {
         "name": "NE Corner Long",
         "rawType": "object",
         "type": "string"
        },
        {
         "name": "SE Corner Lat",
         "rawType": "object",
         "type": "string"
        },
        {
         "name": "SE Corner Long",
         "rawType": "object",
         "type": "string"
        },
        {
         "name": "SW Corner Lat",
         "rawType": "object",
         "type": "string"
        },
        {
         "name": "SW Corner Long",
         "rawType": "object",
         "type": "string"
        },
        {
         "name": "Center Latitude dec",
         "rawType": "float64",
         "type": "float"
        },
        {
         "name": "Center Longitude dec",
         "rawType": "float64",
         "type": "float"
        },
        {
         "name": "NW Corner Lat dec",
         "rawType": "float64",
         "type": "float"
        },
        {
         "name": "NW Corner Long dec",
         "rawType": "float64",
         "type": "float"
        },
        {
         "name": "NE Corner Lat dec",
         "rawType": "float64",
         "type": "float"
        },
        {
         "name": "NE Corner Long dec",
         "rawType": "float64",
         "type": "float"
        },
        {
         "name": "SE Corner Lat dec",
         "rawType": "float64",
         "type": "float"
        },
        {
         "name": "SE Corner Long dec",
         "rawType": "float64",
         "type": "float"
        },
        {
         "name": "SW Corner Lat dec",
         "rawType": "float64",
         "type": "float"
        },
        {
         "name": "SW Corner Long dec",
         "rawType": "float64",
         "type": "float"
        },
        {
         "name": "Display ID",
         "rawType": "object",
         "type": "string"
        },
        {
         "name": "Entity ID",
         "rawType": "int64",
         "type": "integer"
        }
       ],
       "conversionMethod": "pd.DataFrame",
       "ref": "a34817f1-8fde-478c-9b82-37e63fc8a7f1",
       "rows": [
        [
         "0",
         "N_3612016_NE_10_1_20050611",
         "CA",
         "USDA",
         "UNKNOWN",
         "UTM",
         "10N",
         "NAD83",
         "1.0",
         "METER",
         "3",
         "CLR",
         "200505_CALIFORNIA_NAIP_1X0000M_CLR",
         "2005/06/11",
         "36°50'37.38\"N",
         "120°01'52.54\"W",
         "36°52'46.02\"N",
         "120°03'57.18\"W",
         "36°52'39.54\"N",
         "119°59'38.18\"W",
         "36°48'28.70\"N",
         "119°59'48.01\"W",
         "36°48'35.17\"N",
         "120°04'06.77\"W",
         "36.8437166",
         "-120.031261",
         "36.8794499",
         "-120.0658833",
         "36.8776499",
         "-119.9939388",
         "36.8079722",
         "-119.9966694",
         "36.8097694",
         "-120.0685471",
         "N_3612016_NE_10_1_20050611",
         "1237514"
        ],
        [
         "1",
         "N_3612013_SW_10_1_20050611",
         "CA",
         "USDA",
         "UNKNOWN",
         "UTM",
         "10N",
         "NAD83",
         "1.0",
         "METER",
         "3",
         "CLR",
         "200505_CALIFORNIA_NAIP_1X0000M_CLR",
         "2005/06/11",
         "36°46'52.50\"N",
         "120°28'07.51\"W",
         "36°49'00.21\"N",
         "120°30'12.23\"W",
         "36°48'54.72\"N",
         "120°25'54.56\"W",
         "36°44'44.76\"N",
         "120°26'02.90\"W",
         "36°44'50.24\"N",
         "120°30'20.34\"W",
         "36.7812499",
         "-120.4687527",
         "36.8167249",
         "-120.5033972",
         "36.8152",
         "-120.4318221",
         "36.7457666",
         "-120.4341388",
         "36.7472888",
         "-120.50565",
         "N_3612013_SW_10_1_20050611",
         "1237519"
        ],
        [
         "2",
         "N_3612024_SE_10_1_20050611",
         "CA",
         "USDA",
         "UNKNOWN",
         "UTM",
         "10N",
         "NAD83",
         "1.0",
         "METER",
         "3",
         "CLR",
         "200505_CALIFORNIA_NAIP_1X0000M_CLR",
         "2005/06/11",
         "36°39'22.61\"N",
         "120°01'52.55\"W",
         "36°41'31.25\"N",
         "120°03'57.11\"W",
         "36°41'24.79\"N",
         "119°59'38.35\"W",
         "36°37'13.94\"N",
         "119°59'48.10\"W",
         "36°37'20.38\"N",
         "120°04'06.64\"W",
         "36.6562805",
         "-120.0312638",
         "36.6920138",
         "-120.0658638",
         "36.6902194",
         "-119.993986",
         "36.6205388",
         "-119.9966944",
         "36.6223277",
         "-120.068511",
         "N_3612024_SE_10_1_20050611",
         "1237522"
        ],
        [
         "3",
         "N_3612007_NE_10_1_20050611",
         "CA",
         "USDA",
         "UNKNOWN",
         "UTM",
         "10N",
         "NAD83",
         "1.0",
         "METER",
         "3",
         "CLR",
         "200505_CALIFORNIA_NAIP_1X0000M_CLR",
         "2005/06/11",
         "36°58'07.48\"N",
         "120°09'22.43\"W",
         "37°00'15.83\"N",
         "120°11'27.08\"W",
         "37°00'09.63\"N",
         "120°07'08.44\"W",
         "36°55'59.09\"N",
         "120°07'17.89\"W",
         "36°56'05.28\"N",
         "120°11'36.29\"W",
         "36.9687443",
         "-120.1562305",
         "37.0043972",
         "-120.1908555",
         "37.002675",
         "-120.119011",
         "36.9330804",
         "-120.121636",
         "36.9347999",
         "-120.1934138",
         "N_3612007_NE_10_1_20050611",
         "1237523"
        ],
        [
         "4",
         "N_3612012_NW_10_1_20050611",
         "CA",
         "USDA",
         "UNKNOWN",
         "UTM",
         "10N",
         "NAD83",
         "1.0",
         "METER",
         "3",
         "CLR",
         "200505_CALIFORNIA_NAIP_1X0000M_CLR",
         "2005/06/11",
         "36°50'37.44\"N",
         "120°35'37.45\"W",
         "36°52'44.86\"N",
         "120°37'42.09\"W",
         "36°52'39.65\"N",
         "120°33'24.99\"W",
         "36°48'29.99\"N",
         "120°33'32.94\"W",
         "36°48'35.19\"N",
         "120°37'49.80\"W",
         "36.8437333",
         "-120.593736",
         "36.8791277",
         "-120.6283582",
         "36.8776804",
         "-120.5569416",
         "36.8083305",
         "-120.55915",
         "36.809775",
         "-120.6304999",
         "N_3612012_NW_10_1_20050611",
         "1237529"
        ]
       ],
       "shape": {
        "columns": 35,
        "rows": 5
       }
      },
      "text/html": [
       "<div>\n",
       "<style scoped>\n",
       "    .dataframe tbody tr th:only-of-type {\n",
       "        vertical-align: middle;\n",
       "    }\n",
       "\n",
       "    .dataframe tbody tr th {\n",
       "        vertical-align: top;\n",
       "    }\n",
       "\n",
       "    .dataframe thead th {\n",
       "        text-align: right;\n",
       "    }\n",
       "</style>\n",
       "<table border=\"1\" class=\"dataframe\">\n",
       "  <thead>\n",
       "    <tr style=\"text-align: right;\">\n",
       "      <th></th>\n",
       "      <th>NAIP Entity ID</th>\n",
       "      <th>State</th>\n",
       "      <th>Agency</th>\n",
       "      <th>Vendor</th>\n",
       "      <th>Map Projection</th>\n",
       "      <th>Projection Zone</th>\n",
       "      <th>Datum</th>\n",
       "      <th>Resolution</th>\n",
       "      <th>Units</th>\n",
       "      <th>Number of Bands</th>\n",
       "      <th>...</th>\n",
       "      <th>NW Corner Lat dec</th>\n",
       "      <th>NW Corner Long dec</th>\n",
       "      <th>NE Corner Lat dec</th>\n",
       "      <th>NE Corner Long dec</th>\n",
       "      <th>SE Corner Lat dec</th>\n",
       "      <th>SE Corner Long dec</th>\n",
       "      <th>SW Corner Lat dec</th>\n",
       "      <th>SW Corner Long dec</th>\n",
       "      <th>Display ID</th>\n",
       "      <th>Entity ID</th>\n",
       "    </tr>\n",
       "  </thead>\n",
       "  <tbody>\n",
       "    <tr>\n",
       "      <th>0</th>\n",
       "      <td>N_3612016_NE_10_1_20050611</td>\n",
       "      <td>CA</td>\n",
       "      <td>USDA</td>\n",
       "      <td>UNKNOWN</td>\n",
       "      <td>UTM</td>\n",
       "      <td>10N</td>\n",
       "      <td>NAD83</td>\n",
       "      <td>1.0</td>\n",
       "      <td>METER</td>\n",
       "      <td>3</td>\n",
       "      <td>...</td>\n",
       "      <td>36.879450</td>\n",
       "      <td>-120.065883</td>\n",
       "      <td>36.877650</td>\n",
       "      <td>-119.993939</td>\n",
       "      <td>36.807972</td>\n",
       "      <td>-119.996669</td>\n",
       "      <td>36.809769</td>\n",
       "      <td>-120.068547</td>\n",
       "      <td>N_3612016_NE_10_1_20050611</td>\n",
       "      <td>1237514</td>\n",
       "    </tr>\n",
       "    <tr>\n",
       "      <th>1</th>\n",
       "      <td>N_3612013_SW_10_1_20050611</td>\n",
       "      <td>CA</td>\n",
       "      <td>USDA</td>\n",
       "      <td>UNKNOWN</td>\n",
       "      <td>UTM</td>\n",
       "      <td>10N</td>\n",
       "      <td>NAD83</td>\n",
       "      <td>1.0</td>\n",
       "      <td>METER</td>\n",
       "      <td>3</td>\n",
       "      <td>...</td>\n",
       "      <td>36.816725</td>\n",
       "      <td>-120.503397</td>\n",
       "      <td>36.815200</td>\n",
       "      <td>-120.431822</td>\n",
       "      <td>36.745767</td>\n",
       "      <td>-120.434139</td>\n",
       "      <td>36.747289</td>\n",
       "      <td>-120.505650</td>\n",
       "      <td>N_3612013_SW_10_1_20050611</td>\n",
       "      <td>1237519</td>\n",
       "    </tr>\n",
       "    <tr>\n",
       "      <th>2</th>\n",
       "      <td>N_3612024_SE_10_1_20050611</td>\n",
       "      <td>CA</td>\n",
       "      <td>USDA</td>\n",
       "      <td>UNKNOWN</td>\n",
       "      <td>UTM</td>\n",
       "      <td>10N</td>\n",
       "      <td>NAD83</td>\n",
       "      <td>1.0</td>\n",
       "      <td>METER</td>\n",
       "      <td>3</td>\n",
       "      <td>...</td>\n",
       "      <td>36.692014</td>\n",
       "      <td>-120.065864</td>\n",
       "      <td>36.690219</td>\n",
       "      <td>-119.993986</td>\n",
       "      <td>36.620539</td>\n",
       "      <td>-119.996694</td>\n",
       "      <td>36.622328</td>\n",
       "      <td>-120.068511</td>\n",
       "      <td>N_3612024_SE_10_1_20050611</td>\n",
       "      <td>1237522</td>\n",
       "    </tr>\n",
       "    <tr>\n",
       "      <th>3</th>\n",
       "      <td>N_3612007_NE_10_1_20050611</td>\n",
       "      <td>CA</td>\n",
       "      <td>USDA</td>\n",
       "      <td>UNKNOWN</td>\n",
       "      <td>UTM</td>\n",
       "      <td>10N</td>\n",
       "      <td>NAD83</td>\n",
       "      <td>1.0</td>\n",
       "      <td>METER</td>\n",
       "      <td>3</td>\n",
       "      <td>...</td>\n",
       "      <td>37.004397</td>\n",
       "      <td>-120.190855</td>\n",
       "      <td>37.002675</td>\n",
       "      <td>-120.119011</td>\n",
       "      <td>36.933080</td>\n",
       "      <td>-120.121636</td>\n",
       "      <td>36.934800</td>\n",
       "      <td>-120.193414</td>\n",
       "      <td>N_3612007_NE_10_1_20050611</td>\n",
       "      <td>1237523</td>\n",
       "    </tr>\n",
       "    <tr>\n",
       "      <th>4</th>\n",
       "      <td>N_3612012_NW_10_1_20050611</td>\n",
       "      <td>CA</td>\n",
       "      <td>USDA</td>\n",
       "      <td>UNKNOWN</td>\n",
       "      <td>UTM</td>\n",
       "      <td>10N</td>\n",
       "      <td>NAD83</td>\n",
       "      <td>1.0</td>\n",
       "      <td>METER</td>\n",
       "      <td>3</td>\n",
       "      <td>...</td>\n",
       "      <td>36.879128</td>\n",
       "      <td>-120.628358</td>\n",
       "      <td>36.877680</td>\n",
       "      <td>-120.556942</td>\n",
       "      <td>36.808330</td>\n",
       "      <td>-120.559150</td>\n",
       "      <td>36.809775</td>\n",
       "      <td>-120.630500</td>\n",
       "      <td>N_3612012_NW_10_1_20050611</td>\n",
       "      <td>1237529</td>\n",
       "    </tr>\n",
       "  </tbody>\n",
       "</table>\n",
       "<p>5 rows × 35 columns</p>\n",
       "</div>"
      ],
      "text/plain": [
       "               NAIP Entity ID State Agency   Vendor Map Projection  \\\n",
       "0  N_3612016_NE_10_1_20050611    CA   USDA  UNKNOWN            UTM   \n",
       "1  N_3612013_SW_10_1_20050611    CA   USDA  UNKNOWN            UTM   \n",
       "2  N_3612024_SE_10_1_20050611    CA   USDA  UNKNOWN            UTM   \n",
       "3  N_3612007_NE_10_1_20050611    CA   USDA  UNKNOWN            UTM   \n",
       "4  N_3612012_NW_10_1_20050611    CA   USDA  UNKNOWN            UTM   \n",
       "\n",
       "  Projection Zone  Datum  Resolution  Units  Number of Bands  ...  \\\n",
       "0             10N  NAD83         1.0  METER                3  ...   \n",
       "1             10N  NAD83         1.0  METER                3  ...   \n",
       "2             10N  NAD83         1.0  METER                3  ...   \n",
       "3             10N  NAD83         1.0  METER                3  ...   \n",
       "4             10N  NAD83         1.0  METER                3  ...   \n",
       "\n",
       "  NW Corner Lat dec NW Corner Long dec NE Corner Lat dec NE Corner Long dec  \\\n",
       "0         36.879450        -120.065883         36.877650        -119.993939   \n",
       "1         36.816725        -120.503397         36.815200        -120.431822   \n",
       "2         36.692014        -120.065864         36.690219        -119.993986   \n",
       "3         37.004397        -120.190855         37.002675        -120.119011   \n",
       "4         36.879128        -120.628358         36.877680        -120.556942   \n",
       "\n",
       "  SE Corner Lat dec SE Corner Long dec SW Corner Lat dec SW Corner Long dec  \\\n",
       "0         36.807972        -119.996669         36.809769        -120.068547   \n",
       "1         36.745767        -120.434139         36.747289        -120.505650   \n",
       "2         36.620539        -119.996694         36.622328        -120.068511   \n",
       "3         36.933080        -120.121636         36.934800        -120.193414   \n",
       "4         36.808330        -120.559150         36.809775        -120.630500   \n",
       "\n",
       "                   Display ID Entity ID  \n",
       "0  N_3612016_NE_10_1_20050611   1237514  \n",
       "1  N_3612013_SW_10_1_20050611   1237519  \n",
       "2  N_3612024_SE_10_1_20050611   1237522  \n",
       "3  N_3612007_NE_10_1_20050611   1237523  \n",
       "4  N_3612012_NW_10_1_20050611   1237529  \n",
       "\n",
       "[5 rows x 35 columns]"
      ]
     },
     "execution_count": 3,
     "metadata": {},
     "output_type": "execute_result"
    }
   ],
   "source": [
    "ca_ncir = pd.read_csv('E:/USGS/NCIR/meta/CA.csv', encoding=\"latin-1\")\n",
    "tx_ncir = pd.read_csv('E:/USGS/NCIR/meta/TX.csv', encoding=\"latin-1\")\n",
    "df_ncir = pd.concat([ca_ncir, tx_ncir])\n",
    "df_ncir.head()"
   ]
  },
  {
   "cell_type": "code",
   "execution_count": null,
   "metadata": {},
   "outputs": [
    {
     "name": "stdout",
     "output_type": "stream",
     "text": [
      "NCIR files found:  193\n"
     ]
    }
   ],
   "source": [
    "ca_ncir = [cleanup_file(file) for file in os.listdir('E:/USGS/NCIR/CA') if file.endswith('.tif')]\n",
    "tx_ncir = [cleanup_file(file) for file in os.listdir('E:/USGS/NCIR/TX') if file.endswith('.tif')]\n",
    "files_ncir = ca_ncir + tx_ncir\n",
    "\n",
    "print('NCIR files found: ', len(files_ncir))"
   ]
  },
  {
   "cell_type": "code",
   "execution_count": 16,
   "metadata": {},
   "outputs": [
    {
     "name": "stdout",
     "output_type": "stream",
     "text": [
      "NCIR files in metadata:  193\n"
     ]
    }
   ],
   "source": [
    "df_ncir = df_ncir[df_ncir['Display ID'].isin(set(files_ncir))]\n",
    "\n",
    "print('NCIR files in metadata: ', len(df_ncir))"
   ]
  },
  {
   "cell_type": "markdown",
   "metadata": {},
   "source": [
    "## Build Geo Data"
   ]
  },
  {
   "cell_type": "code",
   "execution_count": 61,
   "metadata": {},
   "outputs": [],
   "source": [
    "def build_geo_df(meta_df):\n",
    "    coords = meta_df[[\n",
    "        'NW Corner Lat dec', 'NW Corner Long dec',\n",
    "        'NE Corner Lat dec', 'NE Corner Long dec',\n",
    "        'SW Corner Lat dec', 'SW Corner Long dec',\n",
    "        'SE Corner Lat dec', 'SE Corner Long dec'\n",
    "    ]].values\n",
    "\n",
    "    polys = [\n",
    "        Polygon([\n",
    "            (coords[i, 1], coords[i, 0]),\n",
    "            (coords[i, 5], coords[i, 4]),\n",
    "            (coords[i, 7], coords[i, 6]),\n",
    "            (coords[i, 3], coords[i, 2]),\n",
    "            (coords[i, 1], coords[i, 0])\n",
    "        ])\n",
    "        for i in range(coords.shape[0])\n",
    "    ]\n",
    "\n",
    "    return gpd.GeoDataFrame(meta_df, geometry=polys, crs='EPSG:4326')"
   ]
  },
  {
   "cell_type": "code",
   "execution_count": 62,
   "metadata": {},
   "outputs": [],
   "source": [
    "gdf_cir = build_geo_df(df_cir)\n",
    "gdf_ncir = build_geo_df(df_ncir)"
   ]
  },
  {
   "cell_type": "markdown",
   "metadata": {},
   "source": [
    "## Visualize Overlap"
   ]
  },
  {
   "cell_type": "code",
   "execution_count": 47,
   "metadata": {},
   "outputs": [],
   "source": [
    "def clean_tilename(tilename: str) -> str:\n",
    "    filename = os.path.splitext(tilename)[0]\n",
    "    tilename = filename.split('_')[1]\n",
    "    return tilename\n",
    "\n",
    "def load_state_shape(root: str, state: str) -> gpd.GeoDataFrame:\n",
    "    tile_index = 'TILE_INDEX.shp/tile_index.shp'\n",
    "    if state == 'ND' or state == 'SD':\n",
    "        tile_index = 'TILE_INDEX.shp/dakota_tile_index.shp'\n",
    "    if state == 'NM':\n",
    "        tile_index = 'TILE_INDEX.shp/mexico_tile_index.shp'\n",
    "\n",
    "    df = gpd.read_file(os.path.join(root, state, tile_index))\n",
    "    df['state_short'] = state\n",
    "\n",
    "    if 'state' not in df.columns:\n",
    "        df['state'] = state\n",
    "\n",
    "    if state == 'TX':\n",
    "        df['id'] = df['new_id']\n",
    "    if state == 'MT':\n",
    "        df['id'] = df['tileName'].apply(clean_tilename)\n",
    "\n",
    "    return df"
   ]
  },
  {
   "cell_type": "code",
   "execution_count": null,
   "metadata": {},
   "outputs": [],
   "source": [
    "states = {\n",
    "    state: load_state_shape(usgs, state)\n",
    "    for state in os.listdir(usgs)\n",
    "    if os.path.isdir(os.path.join(usgs, state))\n",
    "}\n",
    "\n",
    "tile_indexes = pd.concat(states.values(), ignore_index=True)"
   ]
  },
  {
   "cell_type": "code",
   "execution_count": 48,
   "metadata": {},
   "outputs": [],
   "source": [
    "state_full = [ # The 17 state names in the USGS western region\n",
    "    'Texas', 'Montana', 'North Dakota', 'South Dakota', 'New Mexico',\n",
    "    'Oklahoma', 'Kansas', 'Nebraska', 'Wyoming', 'Colorado', 'Utah',\n",
    "    'Idaho', 'Washington', 'Oregon', 'California', 'Nevada', 'Arizona'\n",
    "]\n",
    "\n",
    "st_boundaries = gpd.read_file(os.path.join(root, 'ne_10m_admin_1_states_provinces/ne_10m_admin_1_states_provinces.shp'))\n",
    "st_boundaries = st_boundaries[st_boundaries.name.isin(state_full)]\n",
    "st_boundaries = st_boundaries[st_boundaries['iso_3166_2'] != 'BG-12']"
   ]
  },
  {
   "cell_type": "code",
   "execution_count": 65,
   "metadata": {},
   "outputs": [
    {
     "data": {
      "image/png": "[encoded data removed]",
      "text/plain": [
       "<Figure size 1500x1500 with 1 Axes>"
      ]
     },
     "metadata": {},
     "output_type": "display_data"
    }
   ],
   "source": [
    "fig, ax = plt.subplots(figsize=(15, 15))\n",
    "st_boundaries.plot(ax=ax, linewidth=0.4, edgecolor=\".4\")\n",
    "tile_indexes.plot(column='state', cmap='Blues', ax=ax, linewidth=0.4, edgecolor=\".1\", alpha=0.8, legend=True)\n",
    "gdf_cir.plot(ax=ax, color='red', alpha=0.5, edgecolor='black')\n",
    "gdf_ncir.plot(ax=ax, color='red', alpha=0.5, edgecolor='black')\n",
    "ax.set_title('USGS Segmentation Tiles')\n",
    "ax.set_xlabel('Latitude')\n",
    "ax.set_ylabel('Longitude')\n",
    "plt.show()"
   ]
  },
  {
   "cell_type": "markdown",
   "metadata": {},
   "source": [
    "## Get Overlapping Tile Ids"
   ]
  },
  {
   "cell_type": "code",
   "execution_count": 74,
   "metadata": {},
   "outputs": [],
   "source": [
    "tile_indexes['tile_id'] = tile_indexes['state_short'] + '_' + tile_indexes['id']"
   ]
  },
  {
   "cell_type": "code",
   "execution_count": 81,
   "metadata": {},
   "outputs": [
    {
     "name": "stdout",
     "output_type": "stream",
     "text": [
      "Overlapping tiles:  82\n"
     ]
    }
   ],
   "source": [
    "cir_tiles = list(tile_indexes[tile_indexes.intersects(gdf_cir.union_all())]['tile_id'].unique())\n",
    "ncir_tiles = list(tile_indexes[tile_indexes.intersects(gdf_ncir.union_all())]['tile_id'].unique())\n",
    "overlapping_tiles = set(cir_tiles + ncir_tiles)\n",
    "\n",
    "print('Overlapping tiles: ', len(overlapping_tiles))"
   ]
  },
  {
   "cell_type": "code",
   "execution_count": 82,
   "metadata": {},
   "outputs": [
    {
     "data": {
      "text/plain": [
       "{'CA_R05C05',\n",
       " 'CA_R05C06',\n",
       " 'CA_R05C07',\n",
       " 'CA_R06C05',\n",
       " 'CA_R06C06',\n",
       " 'CA_R06C07',\n",
       " 'CA_R06C08',\n",
       " 'CA_R06C09',\n",
       " 'CA_R07C04',\n",
       " 'CA_R07C05',\n",
       " 'CA_R07C06',\n",
       " 'CA_R07C07',\n",
       " 'CA_R07C08',\n",
       " 'CA_R07C09',\n",
       " 'CA_R07C10',\n",
       " 'CA_R08C03',\n",
       " 'CA_R08C04',\n",
       " 'CA_R08C05',\n",
       " 'CA_R08C06',\n",
       " 'CA_R08C07',\n",
       " 'CA_R08C08',\n",
       " 'CA_R08C09',\n",
       " 'CA_R08C10',\n",
       " 'CA_R09C04',\n",
       " 'CA_R09C05',\n",
       " 'CA_R09C06',\n",
       " 'CA_R09C07',\n",
       " 'CA_R09C09',\n",
       " 'CA_R09C10',\n",
       " 'CA_R10C05',\n",
       " 'CA_R10C06',\n",
       " 'CA_R11C05',\n",
       " 'CA_R11C06',\n",
       " 'CA_R11C07',\n",
       " 'CA_R11C08',\n",
       " 'NV_R06C01',\n",
       " 'NV_R06C02',\n",
       " 'NV_R07C01',\n",
       " 'NV_R07C02',\n",
       " 'OK_R06C12',\n",
       " 'OK_R07C11',\n",
       " 'OK_R07C12',\n",
       " 'OK_R07C13',\n",
       " 'OK_R07C14',\n",
       " 'TX_R06C16',\n",
       " 'TX_R06C17',\n",
       " 'TX_R06C18',\n",
       " 'TX_R06C19',\n",
       " 'TX_R06C20',\n",
       " 'TX_R07C16',\n",
       " 'TX_R07C17',\n",
       " 'TX_R07C18',\n",
       " 'TX_R07C19',\n",
       " 'TX_R07C20',\n",
       " 'TX_R07C21',\n",
       " 'TX_R08C16',\n",
       " 'TX_R08C17',\n",
       " 'TX_R08C18',\n",
       " 'TX_R08C19',\n",
       " 'TX_R08C20',\n",
       " 'TX_R08C21',\n",
       " 'TX_R08C22',\n",
       " 'TX_R09C16',\n",
       " 'TX_R09C17',\n",
       " 'TX_R09C19',\n",
       " 'TX_R09C20',\n",
       " 'TX_R09C21',\n",
       " 'TX_R09C22',\n",
       " 'TX_R10C16',\n",
       " 'TX_R10C17',\n",
       " 'TX_R10C20',\n",
       " 'TX_R10C21',\n",
       " 'TX_R10C22',\n",
       " 'TX_R11C16',\n",
       " 'TX_R11C17',\n",
       " 'TX_R11C18',\n",
       " 'TX_R11C19',\n",
       " 'TX_R11C20',\n",
       " 'TX_R11C21',\n",
       " 'TX_R12C18',\n",
       " 'TX_R12C19',\n",
       " 'TX_R12C20'}"
      ]
     },
     "execution_count": 82,
     "metadata": {},
     "output_type": "execute_result"
    }
   ],
   "source": [
    "overlapping_tiles"
   ]
  }
 ],
 "metadata": {
  "kernelspec": {
   "display_name": "mlts2venv",
   "language": "python",
   "name": "python3"
  },
  "language_info": {
   "codemirror_mode": {
    "name": "ipython",
    "version": 3
   },
   "file_extension": ".py",
   "mimetype": "text/x-python",
   "name": "python",
   "nbconvert_exporter": "python",
   "pygments_lexer": "ipython3",
   "version": "3.11.9"
  }
 },
 "nbformat": 4,
 "nbformat_minor": 2
}
